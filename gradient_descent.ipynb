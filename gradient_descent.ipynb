{
 "cells": [
  {
   "cell_type": "code",
   "execution_count": 1,
   "id": "32fe19e1-1ad6-4c22-9729-51974055c819",
   "metadata": {},
   "outputs": [],
   "source": [
    "import numpy as np"
   ]
  },
  {
   "cell_type": "code",
   "execution_count": 6,
   "id": "e0303718-cef6-4282-96c9-cc805709243e",
   "metadata": {},
   "outputs": [
    {
     "name": "stdout",
     "output_type": "stream",
     "text": [
      "Coeficient 0.496, intercept 0.14400000000000002,  cost_function 89.0, iterations 0,\n",
      "Coeficient 0.897792, intercept 0.261888,  cost_function 58.811456, iterations 1,\n",
      "Coeficient 1.223209984, intercept 0.35860377600000004,  cost_function 38.968558260224, iterations 2,\n",
      "Coeficient 1.4867120455679999, intercept 0.43815203635200006,  cost_function 25.925265321311343, iterations 3,\n",
      "Coeficient 1.700019427803136, intercept 0.5037794255831041,  cost_function 17.350968959622264, iterations 4,\n",
      "Coeficient 1.8726345960817952, intercept 0.5581180222392239,  cost_function 11.713894994252348, iterations 5,\n",
      "Coeficient 2.0122612421039165, intercept 0.6033016732714701,  cost_function 8.007296707089116, iterations 6,\n",
      "Coeficient 2.1251447831765966, intercept 0.6410603068781386,  cost_function 5.569497597376152, iterations 7,\n",
      "Coeficient 2.216348406607365, intercept 0.6727963923756118,  cost_function 3.9656158815709377, iterations 8,\n",
      "Coeficient 2.2899768602104396, intercept 0.6996469265804486,  cost_function 2.909828840634283, iterations 9,\n"
     ]
    }
   ],
   "source": [
    "def gradient_descent(x,y):\n",
    "    m_current = b_current = 0\n",
    "    iterations = 10\n",
    "    n = len(x)\n",
    "    learning_rate = 0.008\n",
    "    \n",
    "    for i in range(iterations):\n",
    "        y_pridected = m_current * x + b_current\n",
    "        cost = (1/n) * sum([val ** 2 for val in (y-y_pridected)])\n",
    "        m_derivative = -(2/n) * sum(x * (y - y_pridected))\n",
    "        b_derivative =  -(2/n) * sum(y - y_pridected)\n",
    "        m_current = m_current - learning_rate * m_derivative\n",
    "        b_current = b_current - learning_rate * b_derivative\n",
    "        print (\"Coeficient {}, intercept {},  cost_function {}, iterations {},\".format(m_current,b_current,cost,i))\n",
    "        \n",
    "    \n",
    "\n",
    "\n",
    "\n",
    "\n",
    "\n",
    "\n",
    "x = np.array([1,2,3,4,5])\n",
    "y = np.array([5,7,9,11,13])\n",
    "\n",
    "\n",
    "gradient_descent(x,y)"
   ]
  },
  {
   "cell_type": "code",
   "execution_count": null,
   "id": "61848757-3ef8-4660-afed-996f16b3298b",
   "metadata": {},
   "outputs": [],
   "source": []
  }
 ],
 "metadata": {
  "kernelspec": {
   "display_name": "Python 3 (ipykernel)",
   "language": "python",
   "name": "python3"
  },
  "language_info": {
   "codemirror_mode": {
    "name": "ipython",
    "version": 3
   },
   "file_extension": ".py",
   "mimetype": "text/x-python",
   "name": "python",
   "nbconvert_exporter": "python",
   "pygments_lexer": "ipython3",
   "version": "3.12.4"
  }
 },
 "nbformat": 4,
 "nbformat_minor": 5
}
